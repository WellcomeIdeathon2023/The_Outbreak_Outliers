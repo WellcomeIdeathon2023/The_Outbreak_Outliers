{
  "nbformat": 4,
  "nbformat_minor": 0,
  "metadata": {
    "colab": {
      "provenance": [],
      "collapsed_sections": [
        "6PMDRLfCc7ZH",
        "Z-WC8cefc_4F",
        "9U1G00hjctgi",
        "EX1ZmQyacmXg"
      ],
      "include_colab_link": true
    },
    "kernelspec": {
      "name": "python3",
      "display_name": "Python 3"
    },
    "language_info": {
      "name": "python"
    }
  },
  "cells": [
    {
      "cell_type": "markdown",
      "metadata": {
        "id": "view-in-github",
        "colab_type": "text"
      },
      "source": [
        "<a href=\"https://colab.research.google.com/github/dzanahmed/welcome-ideathon-lshtm/blob/main/code/regular_expression_filter_pipeline.ipynb\" target=\"_parent\"><img src=\"https://colab.research.google.com/assets/colab-badge.svg\" alt=\"Open In Colab\"/></a>"
      ]
    },
    {
      "cell_type": "markdown",
      "source": [
        "#Setup"
      ],
      "metadata": {
        "id": "P2NZUxY6Xuhr"
      }
    },
    {
      "cell_type": "markdown",
      "source": [
        "## Load packages"
      ],
      "metadata": {
        "id": "DRCamWbmL2Sh"
      }
    },
    {
      "cell_type": "code",
      "source": [
        "import re\n",
        "import pandas as pd"
      ],
      "metadata": {
        "id": "SGPNWWrXL1db"
      },
      "execution_count": null,
      "outputs": []
    },
    {
      "cell_type": "markdown",
      "source": [
        "## Load data for testing"
      ],
      "metadata": {
        "id": "wRWoJDL6Xwfd"
      }
    },
    {
      "cell_type": "code",
      "source": [
        "url = \"https://raw.githubusercontent.com/dzanahmed/welcome-ideathon-lshtm/main/data/interim/vax_tweets_v0.csv?token=GHSAT0AAAAAACB5CGEQU2OOOVHV34Z6WFNIZFKYOZQ\"\n",
        "raw_df = pd.read_csv(url)\n",
        "raw_df['text'] = raw_df['text'].astype(str)"
      ],
      "metadata": {
        "id": "Mx7DLaotXy08"
      },
      "execution_count": null,
      "outputs": []
    },
    {
      "cell_type": "markdown",
      "source": [
        "##function to preprocess text column"
      ],
      "metadata": {
        "id": "qb9kegpt0kCi"
      }
    },
    {
      "cell_type": "code",
      "source": [
        "# Create a function to lowercase the strings in the column\n",
        "def lowercase_string(string):\n",
        "    return string.lower()"
      ],
      "metadata": {
        "id": "AM0nZAil0pv3"
      },
      "execution_count": null,
      "outputs": []
    },
    {
      "cell_type": "code",
      "source": [
        "random_sample = raw_df.sample(frac=0.1, random_state=42)\n",
        "random_sample = random_sample.loc[:, ['tweet_id', 'text']]\n",
        "print(len(random_sample))\n",
        "\n",
        "\n",
        "working_df = raw_df.loc[:, ['tweet_id', 'text']]\n",
        "# rename text column to raw_text\n",
        "working_df = raw_df.rename(columns={'text': 'raw_text'})\n",
        "\n",
        "# add lowercased text column\n",
        "working_df[\"lowercase_text\"] = working_df[\"raw_text\"].apply(lowercase_string)\n",
        "print(len(working_df))\n"
      ],
      "metadata": {
        "colab": {
          "base_uri": "https://localhost:8080/"
        },
        "id": "AKG8bDTPMKz0",
        "outputId": "73139b1a-1439-4620-e658-4768548ac3c3"
      },
      "execution_count": null,
      "outputs": [
        {
          "output_type": "stream",
          "name": "stdout",
          "text": [
            "10000\n",
            "99997\n"
          ]
        }
      ]
    },
    {
      "cell_type": "markdown",
      "source": [
        "## Keyword/RegEx dictionaries"
      ],
      "metadata": {
        "id": "NzC7F2BLKMLN"
      }
    },
    {
      "cell_type": "code",
      "execution_count": null,
      "metadata": {
        "id": "isGBXUvnKCZf"
      },
      "outputs": [],
      "source": [
        "vaccine_filter = [\n",
        "    # variations of the word vaccine\n",
        "    r\"(?=.*\\bvaccine\\b)\",\n",
        "    r\"(?=.*\\bvaccination\\b)\",\n",
        "    r\"(?=.*\\bvaccinated\\b)\",\n",
        "    r\"(?=.*\\bvaccinating\\b)\",\n",
        "\n",
        "    # catch all vax---sufix words, since the majority refer to vaccination\n",
        "    r\"(?=.*\\bvax\\w*\\b)\",\n",
        "\n",
        "    # catch common mispellings of vaccine\n",
        "    r\"(?=.*\\bvacine\\b)\",\n",
        "    r\"(?=.*\\bvacinne\\b)\",\n",
        "    r\"(?=.*\\bvacinn\\b)\",\n",
        "\n",
        "    r\"(?=.*\\bjab\\b)\",\n",
        "    r\"(?=.*\\bjabs\\b)\",\n",
        "\n",
        "    r\"(?=.*\\bshot\\b)\",\n",
        "    r\"(?=.*\\bshots\\b)\",\n",
        "\n",
        "    r\"(?=.*\\binjection\\b)\",\n",
        "    r\"(?=.*\\binjections\\b)\",\n",
        "\n",
        "    r\"(?=.*\\bbooster\\b)\",\n",
        "    r\"(?=.*\\boosters\\b)\",\n",
        "\n",
        "    r\"(?=.*\\bneedle\\b)\",\n",
        "    r\"(?=.*\\bneedles\\b)\",\n",
        "\n",
        "    r\"(?=.*\\bdose\\b)\",\n",
        "    r\"(?=.*\\bdoses\\b)\",\n",
        "\n",
        "    r\"(?=.*\\bimmune\\b)\",\n",
        "    r\"(?=.*\\bimmunity\\b)\",\n",
        "\n",
        "    r\"(?=.*\\bmoderna\\b)\",\n",
        "    r\"(?=.*\\biontech\\b)\",\n",
        "    r\"(?=.*\\bpfizer\\b)\",\n",
        "    r\"(?=.*\\bj&j\\b)\",\n",
        "    r\"(?=.*\\bjohnson\\s+&\\s+Johnson\\b)\",\n",
        "    r\"(?=.*\\bcovaxin\\b)\",\n",
        "    r\"(?=.*\\baz\\b)\",\n",
        "    r\"(?=.*\\bastra\\w*zeneca\\b)\",\n",
        "\n",
        "    # covid terms\n",
        "    r\"(?=.*\\bcovid\\w*\\b)\",\n",
        "    r\"(?=.*\\bcorona\\w*\\b)\"\n",
        "]\n",
        "\n",
        "hesitancy_filter = [\n",
        "    r\"(?=.*\\b(worry|worries|worried|worrying)\\b)\",\n",
        "    r\"(?=.*\\b((dont|do\\s*not)\\s*(want|give|take|have))\\b)\",\n",
        "    r\"(?=.*\\b(reluctant)\\b)\",\n",
        "    r\"(?=.*\\bskeptic\\w*\\b)\",\n",
        "    r\"(?=.*\\bconflicted\\b)\",\n",
        "    r\"(?=.*\\bdoubt\\w*\\b)\",\n",
        "    r\"(?=.*\\bcan\\s*not\\b)\",\n",
        "    r\"(?=.*\\bwill\\s*not\\b)\",\n",
        "    r\"(?=.*\\bwont\\b)\",\n",
        "    r\"(?=.*\\bunsure\\b)\",\n",
        "    r\"(?=.*\\bunwilling\\b)\",\n",
        "    r\"(?=.*\\bhesitant\\b)\",\n",
        "    r\"(?=.*\\bquestion\\w*\\b)\",\n",
        "    r\"(?=.*\\bon\\s*the\\s*fence\\b)\",\n",
        "    r\"(?=.*\\bwaver\\w*\\b)\",\n",
        "    r\"(?=.*\\b(scared|scary)\\b)\",\n",
        "    r\"(?=.*\\bafraid\\b)\",\n",
        "    r\"(?=.*\\bnervous\\b)\",\n",
        "    r\"(?=.*\\bfright\\b)\",\n",
        "    r\"(?=.*\\bhorror\\b)\"\n",
        "\n",
        "]\n",
        "\n",
        "safety_filter = [\n",
        "    r\"(?=.*\\bmortality\\w*\\b)\",\n",
        "    r\"(?=.*\\bdeath\\w*\\b)\",\n",
        "    r\"(?=.*\\bkill\\w*\\b)\",\n",
        "    r\"(?=.*\\b(side\\s?effects\\w*))\\b\",\n",
        "    r\"(?=.*\\bpoison\\w*\\b)\",\n",
        "    r\"(?=.*\\blead\\w*\\b)\",\n",
        "    r\"(?=.*\\b(worse\\s?than\\s?infection\\w*))\\b\",\n",
        "    r\"(?=.*\\bhazardous\\w*\\b)\",\n",
        "    r\"(?=.*\\blethal\\w*\\b)\",\n",
        "    r\"(?=.*\\bfatality\\w*\\b)\",\n",
        "    r\"(?=.*\\bharmful\\w*\\b)\",\n",
        "    r\"(?=.*\\b(adverse\\s?reactions\\w*))\\b\",\n",
        "    r\"(?=.*\\breact\\w*\\b)\",\n",
        "    r\"(?=.*\\btoxic\\w*\\b)\",\n",
        "    r\"(?=.*\\b(result\\s?in\\s?death\\w*))\\b\",\n",
        "    r\"(?=.*\\bdeadly\\w*\\b)\",\n",
        "    r\"(?=.*\\beliminate\\w*\\b)\",\n",
        "    r\"(?=.*\\bcomplications\\w*\\b)\",\n",
        "    r\"(?=.*\\bdetrimental\\w*\\b)\",\n",
        "    r\"(?=.*\\b(potentially\\s?lethal\\w*))\\b\",\n",
        "    r\"(?=.*\\bperilous\\w*\\b)\",\n",
        "    r\"(?=.*\\binjurious\\w*\\b)\",\n",
        "    r\"(?=.*\\b(severe\\s?consequences\\w*))\\b\",\n",
        "    r\"(?=.*\\bhazard\\w*\\b)\",\n",
        "    r\"(?=.*\\bdestructive\\w*\\b)\",\n",
        "    r\"(?=.*\\bendanger\\w*\\b)\",\n",
        "    r\"(?=.*\\bcatastrophic\\w*\\b)\",\n",
        "    r\"(?=.*\\b(risks\\s?outweigh\\s?benefits\\w*))\\b\",\n",
        "    r\"(?=.*\\blife-threatening\\w*\\b)\",\n",
        "    r\"(?=.*\\bunsafe\\w*\\b)\",\n",
        "    r\"(?=.*\\bdanger\\w*\\b)\",\n",
        "    r\"(?=.*\\buntest\\w*\\b)\",\n",
        "    r\"(?=.*\\bunverif\\w*\\b)\",\n",
        "    r\"(?=.*\\b(not\\s?test\\w*))\\b\",\n",
        "    r\"(?=.*\\bfatal\\w*\\b)\",\n",
        "    r\"(?=.*\\bmortality\\w*\\b)\",\n",
        "    r\"(?=.*\\b(negative\\s?outcomes\\w*))\\b\",\n",
        "    r\"(?=.*\\btoxicity\\w*\\b)\",\n",
        "    r\"(?=.*\\bpoisonous\\w*\\b)\",\n",
        "    r\"(?=.*\\b(inflict\\s?harm\\w*))\\b\",\n",
        "    r\"(?=.*\\bcompromising\\w*\\b)\",\n",
        "    r\"(?=.*\\bdetriment\\w*\\b)\",\n",
        "    r\"(?=.*\\b(critical\\s?condition\\w*))\\b\",\n",
        "    r\"(?=.*\\brisky\\w*\\b)\",\n",
        "    r\"(?=.*\\bincurable\\w*\\b)\",\n",
        "    r\"(?=.*\\bmenacing\\w*\\b)\"\n",
        "]\n",
        "\n",
        "\n",
        "mistrust_filter = [\n",
        "    r\"(?=.*\\b(doubt\\w*)\\b)\",\n",
        "    r\"(?=.*\\b(suspic\\w*)\\b)\",\n",
        "    r\"(?=.*\\b(skeptic\\w*)\\b)\",\n",
        "    r\"(?=.*\\b(distrust\\w*)\\b)\",\n",
        "    r\"(?=.*\\b(cynic\\w*)\\b)\",\n",
        "    r\"(?=.*\\b(misbelief\\w*)\\b)\",\n",
        "    r\"(?=.*\\b(disbelief\\w*)\\b)\",\n",
        "    r\"(?=.*\\b(wari\\w*)\\b)\",\n",
        "    r\"(?=.*\\b(apprehen\\w*)\\b)\",\n",
        "    r\"(?=.*\\b(disillusion\\w*)\\b)\",\n",
        "    r\"(?=.*\\b(misgiv\\w*)\\b)\",\n",
        "    r\"(?=.*\\b(uncertain\\w*)\\b)\",\n",
        "    r\"(?=.*\\b(reservation\\w*)\\b)\",\n",
        "    r\"(?=.*\\b(hesitat\\w*)\\b)\",\n",
        "    r\"(?=.*\\b(question\\w*)\\b)\",\n",
        "    r\"(?=.*\\b(lack\\sof\\sconfidenc\\w*)\\b)\",\n",
        "    r\"(?=.*\\b(unreliab\\w*)\\b)\",\n",
        "    r\"(?=.*\\b(dubiousn\\w*)\\b)\",\n",
        "    r\"(?=.*\\b(skepti\\smindset\\w*)\\b)\",\n",
        "    r\"(?=.*\\b(lack\\sof\\sfaith\\w*)\\b)\",\n",
        "    r\"(?=.*\\b(disreputable\\w*)\\b)\",\n",
        "    r\"(?=.*\\b(paranoia\\w*)\\b)\",\n",
        "    r\"(?=.*\\b(suspiciousness\\w*)\\b)\",\n",
        "    r\"(?=.*\\b(doubtfulness\\w*)\\b)\",\n",
        "    r\"(?=.*\\b(mistrust\\w*)\\b)\",\n",
        "    r\"(?=.*\\b(incredulous\\w*)\\b)\",\n",
        "    r\"(?=.*\\b(concern\\w*)\\b)\",\n",
        "    r\"(?=.*\\b(pessimism\\w*)\\b)\",\n",
        "    r\"(?=.*\\b(skepticism\\w*)\\b)\",\n",
        "    r\"(?=.*\\b(dubiety\\w*)\\b)\",\n",
        "    r\"(?=.*\\b(apprehensiveness\\w*)\\b)\",\n",
        "    r\"(?=.*\\b(reservation\\w*)\\b)\",\n",
        "    r\"(?=.*\\b(untrustworthiness\\w*)\\b)\",\n",
        "    r\"(?=.*\\b(cautiousness\\w*)\\b)\",\n",
        "    r\"(?=.*\\b(hesitan\\w*)\\b)\",\n",
        "    r\"(?=.*\\b(surveil\\w*)\\b)\",\n",
        "    r\"(?=.*\\b(discredit\\w*)\\b)\",\n",
        "    r\"(?=.*\\b(wariness\\w*)\\b)\",\n",
        "    r\"(?=.*\\b(skeptical\\w*)\\b)\",\n",
        "    r\"(?=.*\\b(distrustful\\w*)\\b)\",\n",
        "    r\"(?=.*\\b(critical\\w*)\\b)\",\n",
        "    r\"(?=.*\\b(secrecy\\w*)\\b)\",\n",
        "    r\"(?=.*\\b(misgiving\\w*)\\b)\",\n",
        "    r\"(?=.*\\b(scrutiny\\w*)\\b)\",\n",
        "    r\"(?=.*\\b(apprehensive\\w*)\\b)\"\n",
        "]"
      ]
    },
    {
      "cell_type": "markdown",
      "source": [
        "## Testing zone"
      ],
      "metadata": {
        "id": "iYtWX1u3Xk4n"
      }
    },
    {
      "cell_type": "code",
      "source": [
        "def test_regex_filter(regex):\n",
        "  \"\"\"\n",
        "  This function tests whether a user-provided piece of text will pass the specified regex filter\n",
        "\n",
        "  \"\"\"\n",
        "  input_string = input(\"Sentence: \")\n",
        "\n",
        "  for expression in regex:\n",
        "    pattern = re.compile(expression)\n",
        "    if pattern.match(input_string) is not None:\n",
        "      return True\n",
        "\n",
        "  return False"
      ],
      "metadata": {
        "id": "WJGEIJcIMN3r"
      },
      "execution_count": null,
      "outputs": []
    },
    {
      "cell_type": "code",
      "source": [
        "# test_regex_filter(vaccine_filter)"
      ],
      "metadata": {
        "id": "FJtbFbDEWhBR"
      },
      "execution_count": null,
      "outputs": []
    },
    {
      "cell_type": "markdown",
      "source": [
        "# Apply filters and note results"
      ],
      "metadata": {
        "id": "No-28Od_XnEs"
      }
    },
    {
      "cell_type": "markdown",
      "source": [
        "## function to apply filter"
      ],
      "metadata": {
        "id": "6PMDRLfCc7ZH"
      }
    },
    {
      "cell_type": "code",
      "source": [
        "# function to apply filter to a dataframe and return filter results\n",
        "\n",
        "def apply_regex_filter(df, regex, new_col_name):\n",
        "  df[new_col_name] = False\n",
        "\n",
        "  for expression in regex:\n",
        "    # Use 'str.contains()' to check if each tweet matches the pattern\n",
        "    mask = df['lowercase_text'].str.contains(expression, flags=re.IGNORECASE, regex=True)\n",
        "\n",
        "    # Update 'no_vax_filter' column where the tweet matches the pattern\n",
        "    df.loc[mask, new_col_name] = True\n",
        "\n",
        "  return df"
      ],
      "metadata": {
        "id": "As2YG948XsxL"
      },
      "execution_count": null,
      "outputs": []
    },
    {
      "cell_type": "markdown",
      "source": [
        "## apply filters to dataset"
      ],
      "metadata": {
        "id": "Z-WC8cefc_4F"
      }
    },
    {
      "cell_type": "code",
      "source": [
        "# random_sample = apply_regex_filter(random_sample, regex = vaccine_filter, new_col_name = \"vaccine_filter\")\n",
        "# random_sample = apply_regex_filter(random_sample, regex = hesitancy_filter, new_col_name = \"hesitancy_filter\")\n",
        "# random_sample = apply_regex_filter(random_sample, regex = mistrust_filter, new_col_name = \"mistrust_filter\")\n",
        "# random_sample = apply_regex_filter(random_sample, regex = safety_filter, new_col_name = \"safety_filter\")"
      ],
      "metadata": {
        "id": "_EuLIbQsaKMc"
      },
      "execution_count": null,
      "outputs": []
    },
    {
      "cell_type": "markdown",
      "source": [
        "# Explore filter performance"
      ],
      "metadata": {
        "id": "ob8C3Y0RdIGZ"
      }
    },
    {
      "cell_type": "markdown",
      "source": [
        "## define functions to explore filter performance"
      ],
      "metadata": {
        "id": "9U1G00hjctgi"
      }
    },
    {
      "cell_type": "code",
      "source": [
        "def report_label_spread(df, filter_name):\n",
        "  positive_labels = len(df[df[filter_name] == True])\n",
        "  negative_labels = len(df[df[filter_name] == False])\n",
        "  total_labels = len(df)\n",
        "\n",
        "  print(f\"Proportion positive labels: {positive_labels / total_labels}\")\n",
        "  print(f\"Proportion negative labels: {negative_labels / total_labels}\")\n",
        "\n",
        "\n",
        "def show_positive_labels(df, filter_name):\n",
        "  return df[df[filter_name] == True].loc[:, ['raw_text', filter_name]]"
      ],
      "metadata": {
        "id": "ZDhyjAsRafv4"
      },
      "execution_count": null,
      "outputs": []
    },
    {
      "cell_type": "markdown",
      "source": [
        "## explore filter performance"
      ],
      "metadata": {
        "id": "EX1ZmQyacmXg"
      }
    },
    {
      "cell_type": "code",
      "source": [
        "# filter_names = ['vaccine_filter', 'hesitancy_filter', 'safety_filter', 'mistrust_filter']\n",
        "\n",
        "# for filter_name in filter_names:\n",
        "#   print(f\"\\n{filter_name}:\")\n",
        "#   report_label_spread(df = random_sample, filter_name = filter_name)\n",
        "\n",
        "# show_positive_labels(df = random_sample, filter_name = \"mistrust_filter\")"
      ],
      "metadata": {
        "id": "7q9y59vpcKl3"
      },
      "execution_count": null,
      "outputs": []
    },
    {
      "cell_type": "markdown",
      "source": [
        "# Apply filters to dataset"
      ],
      "metadata": {
        "id": "iKfYuboMr_0E"
      }
    },
    {
      "cell_type": "markdown",
      "source": [
        "## code to run cascading filters"
      ],
      "metadata": {
        "id": "rl-Pf1YMNCS3"
      }
    },
    {
      "cell_type": "code",
      "source": [
        "def cascading_regex_filter(df, regex_filter_chain, filter_names):\n",
        "  current_tweet_ids = df['tweet_id'].tolist()\n",
        "\n",
        "  # go through each filter level in the cascade\n",
        "  for filter_level in range(len(regex_filter_chain)):\n",
        "\n",
        "    # when multiple filters occur on the same level\n",
        "    if type(filter_names[filter_level]) == list:\n",
        "\n",
        "      # apply each filter to the current set of tweets\n",
        "      for filter in range(len(filter_names[filter_level])):\n",
        "\n",
        "        # initialise filter output columns\n",
        "        df[filter_names[filter_level][filter]] = False\n",
        "\n",
        "        for tweet_id in current_tweet_ids:\n",
        "          # check if the tweet id passes the regex filter\n",
        "          for expression in regex_filter_chain[filter_level][filter]:\n",
        "            pattern = re.compile(expression)\n",
        "            if pattern.match(str(df.loc[df[\"tweet_id\"] == tweet_id, 'lowercase_text'].values[0])) is not None:\n",
        "              # if it passes the filter, update the dataframe\n",
        "              df.loc[df[\"tweet_id\"] == tweet_id, filter_names[filter_level][filter]] = True\n",
        "              break\n",
        "\n",
        "\n",
        "    # otherwise . . .\n",
        "    else:\n",
        "      # initialise filter output columns\n",
        "      df[filter_names[filter_level]] = False\n",
        "\n",
        "      # go through the current list of tweet ids\n",
        "      working_tweet_ids = current_tweet_ids[:]\n",
        "\n",
        "      for tweet_id in working_tweet_ids:\n",
        "        pass_filter = False\n",
        "        for expression in regex_filter_chain[filter_level]:\n",
        "          pattern = re.compile(expression)\n",
        "          if pattern.match(str(df.loc[df[\"tweet_id\"] == tweet_id, 'lowercase_text'].values[0])) is not None:\n",
        "            # if it passes the filter, update the dataframe\n",
        "            df.loc[df[\"tweet_id\"] == tweet_id, filter_names[filter_level]] = True\n",
        "            pass_filter = True\n",
        "            break\n",
        "\n",
        "        # if it doesn't pass, remove that tweet id from the working tweet ids\n",
        "        if pass_filter == False:\n",
        "          current_tweet_ids.remove(tweet_id)\n",
        "\n",
        "  return df"
      ],
      "metadata": {
        "id": "1R5Vj4kGr_D9"
      },
      "execution_count": null,
      "outputs": []
    },
    {
      "cell_type": "markdown",
      "source": [
        "## run cascading filter on dataframe"
      ],
      "metadata": {
        "id": "usVMx0vqM_af"
      }
    },
    {
      "cell_type": "code",
      "source": [
        "regex_filter_chain = [vaccine_filter, hesitancy_filter, [safety_filter, mistrust_filter]]\n",
        "filter_names = ['vaccine_filter', 'hesitancy_filter', ['safety_filter', 'mistrust_filter']]\n",
        "\n",
        "# output_df = cascading_regex_filter(random_sample, regex_filter_chain, filter_names)\n",
        "output_df = cascading_regex_filter(working_df, regex_filter_chain, filter_names)"
      ],
      "metadata": {
        "id": "uM1RiWI9Muf8"
      },
      "execution_count": null,
      "outputs": []
    },
    {
      "cell_type": "markdown",
      "source": [
        "## explore results after cascading filters"
      ],
      "metadata": {
        "id": "_a2omoesNTXl"
      }
    },
    {
      "cell_type": "code",
      "source": [
        "filter_names = ['vaccine_filter', 'hesitancy_filter', 'safety_filter', 'mistrust_filter']\n",
        "\n",
        "for filter_name in filter_names:\n",
        "  print(f\"\\n{filter_name}:\")\n",
        "  report_label_spread(df = output_df, filter_name = filter_name)\n",
        "\n",
        "\n",
        "show_positive_labels(df = output_df, filter_name = \"mistrust_filter\")"
      ],
      "metadata": {
        "colab": {
          "base_uri": "https://localhost:8080/",
          "height": 709
        },
        "id": "VCei36UyNS2S",
        "outputId": "65583121-b5e3-4789-a573-90a1074e695e"
      },
      "execution_count": null,
      "outputs": [
        {
          "output_type": "stream",
          "name": "stdout",
          "text": [
            "\n",
            "vaccine_filter:\n",
            "Proportion positive labels: 0.7867936038081143\n",
            "Proportion negative labels: 0.21320639619188575\n",
            "\n",
            "hesitancy_filter:\n",
            "Proportion positive labels: 0.02523075692270768\n",
            "Proportion negative labels: 0.9747692430772923\n",
            "\n",
            "safety_filter:\n",
            "Proportion positive labels: 0.0018400552016560497\n",
            "Proportion negative labels: 0.9981599447983439\n",
            "\n",
            "mistrust_filter:\n",
            "Proportion positive labels: 0.012760382811484344\n",
            "Proportion negative labels: 0.9872396171885156\n"
          ]
        },
        {
          "output_type": "execute_result",
          "data": {
            "text/plain": [
              "                                                raw_text  mistrust_filter\n",
              "2      @JoyAnnReid @NIH  👿Questions:  Could the vacci...             True\n",
              "3      Next question is how do you find out where you...             True\n",
              "25     Dr Alex Shaw, a GP in Southend helps to answer...             True\n",
              "187    Do you have questions about the #CovidVaccine ...             True\n",
              "361    @CBCNews is running a series of great online a...             True\n",
              "...                                                  ...              ...\n",
              "99774  What is a vaccine? In this episode of Your Vac...             True\n",
              "99786  Fantastic, really well attended virtual vaccin...             True\n",
              "99847  Can #Vaccine be questioned in this case?\\n#Cov...             True\n",
              "99913  📢📢 Attention: Parents, teachers, and Student. ...             True\n",
              "99928  Another reason on skeptical on the #Vaccine, i...             True\n",
              "\n",
              "[1276 rows x 2 columns]"
            ],
            "text/html": [
              "\n",
              "  <div id=\"df-bba42261-7ed9-45b8-9a4f-8b52ea9ea077\">\n",
              "    <div class=\"colab-df-container\">\n",
              "      <div>\n",
              "<style scoped>\n",
              "    .dataframe tbody tr th:only-of-type {\n",
              "        vertical-align: middle;\n",
              "    }\n",
              "\n",
              "    .dataframe tbody tr th {\n",
              "        vertical-align: top;\n",
              "    }\n",
              "\n",
              "    .dataframe thead th {\n",
              "        text-align: right;\n",
              "    }\n",
              "</style>\n",
              "<table border=\"1\" class=\"dataframe\">\n",
              "  <thead>\n",
              "    <tr style=\"text-align: right;\">\n",
              "      <th></th>\n",
              "      <th>raw_text</th>\n",
              "      <th>mistrust_filter</th>\n",
              "    </tr>\n",
              "  </thead>\n",
              "  <tbody>\n",
              "    <tr>\n",
              "      <th>2</th>\n",
              "      <td>@JoyAnnReid @NIH  👿Questions:  Could the vacci...</td>\n",
              "      <td>True</td>\n",
              "    </tr>\n",
              "    <tr>\n",
              "      <th>3</th>\n",
              "      <td>Next question is how do you find out where you...</td>\n",
              "      <td>True</td>\n",
              "    </tr>\n",
              "    <tr>\n",
              "      <th>25</th>\n",
              "      <td>Dr Alex Shaw, a GP in Southend helps to answer...</td>\n",
              "      <td>True</td>\n",
              "    </tr>\n",
              "    <tr>\n",
              "      <th>187</th>\n",
              "      <td>Do you have questions about the #CovidVaccine ...</td>\n",
              "      <td>True</td>\n",
              "    </tr>\n",
              "    <tr>\n",
              "      <th>361</th>\n",
              "      <td>@CBCNews is running a series of great online a...</td>\n",
              "      <td>True</td>\n",
              "    </tr>\n",
              "    <tr>\n",
              "      <th>...</th>\n",
              "      <td>...</td>\n",
              "      <td>...</td>\n",
              "    </tr>\n",
              "    <tr>\n",
              "      <th>99774</th>\n",
              "      <td>What is a vaccine? In this episode of Your Vac...</td>\n",
              "      <td>True</td>\n",
              "    </tr>\n",
              "    <tr>\n",
              "      <th>99786</th>\n",
              "      <td>Fantastic, really well attended virtual vaccin...</td>\n",
              "      <td>True</td>\n",
              "    </tr>\n",
              "    <tr>\n",
              "      <th>99847</th>\n",
              "      <td>Can #Vaccine be questioned in this case?\\n#Cov...</td>\n",
              "      <td>True</td>\n",
              "    </tr>\n",
              "    <tr>\n",
              "      <th>99913</th>\n",
              "      <td>📢📢 Attention: Parents, teachers, and Student. ...</td>\n",
              "      <td>True</td>\n",
              "    </tr>\n",
              "    <tr>\n",
              "      <th>99928</th>\n",
              "      <td>Another reason on skeptical on the #Vaccine, i...</td>\n",
              "      <td>True</td>\n",
              "    </tr>\n",
              "  </tbody>\n",
              "</table>\n",
              "<p>1276 rows × 2 columns</p>\n",
              "</div>\n",
              "      <button class=\"colab-df-convert\" onclick=\"convertToInteractive('df-bba42261-7ed9-45b8-9a4f-8b52ea9ea077')\"\n",
              "              title=\"Convert this dataframe to an interactive table.\"\n",
              "              style=\"display:none;\">\n",
              "        \n",
              "  <svg xmlns=\"http://www.w3.org/2000/svg\" height=\"24px\"viewBox=\"0 0 24 24\"\n",
              "       width=\"24px\">\n",
              "    <path d=\"M0 0h24v24H0V0z\" fill=\"none\"/>\n",
              "    <path d=\"M18.56 5.44l.94 2.06.94-2.06 2.06-.94-2.06-.94-.94-2.06-.94 2.06-2.06.94zm-11 1L8.5 8.5l.94-2.06 2.06-.94-2.06-.94L8.5 2.5l-.94 2.06-2.06.94zm10 10l.94 2.06.94-2.06 2.06-.94-2.06-.94-.94-2.06-.94 2.06-2.06.94z\"/><path d=\"M17.41 7.96l-1.37-1.37c-.4-.4-.92-.59-1.43-.59-.52 0-1.04.2-1.43.59L10.3 9.45l-7.72 7.72c-.78.78-.78 2.05 0 2.83L4 21.41c.39.39.9.59 1.41.59.51 0 1.02-.2 1.41-.59l7.78-7.78 2.81-2.81c.8-.78.8-2.07 0-2.86zM5.41 20L4 18.59l7.72-7.72 1.47 1.35L5.41 20z\"/>\n",
              "  </svg>\n",
              "      </button>\n",
              "      \n",
              "  <style>\n",
              "    .colab-df-container {\n",
              "      display:flex;\n",
              "      flex-wrap:wrap;\n",
              "      gap: 12px;\n",
              "    }\n",
              "\n",
              "    .colab-df-convert {\n",
              "      background-color: #E8F0FE;\n",
              "      border: none;\n",
              "      border-radius: 50%;\n",
              "      cursor: pointer;\n",
              "      display: none;\n",
              "      fill: #1967D2;\n",
              "      height: 32px;\n",
              "      padding: 0 0 0 0;\n",
              "      width: 32px;\n",
              "    }\n",
              "\n",
              "    .colab-df-convert:hover {\n",
              "      background-color: #E2EBFA;\n",
              "      box-shadow: 0px 1px 2px rgba(60, 64, 67, 0.3), 0px 1px 3px 1px rgba(60, 64, 67, 0.15);\n",
              "      fill: #174EA6;\n",
              "    }\n",
              "\n",
              "    [theme=dark] .colab-df-convert {\n",
              "      background-color: #3B4455;\n",
              "      fill: #D2E3FC;\n",
              "    }\n",
              "\n",
              "    [theme=dark] .colab-df-convert:hover {\n",
              "      background-color: #434B5C;\n",
              "      box-shadow: 0px 1px 3px 1px rgba(0, 0, 0, 0.15);\n",
              "      filter: drop-shadow(0px 1px 2px rgba(0, 0, 0, 0.3));\n",
              "      fill: #FFFFFF;\n",
              "    }\n",
              "  </style>\n",
              "\n",
              "      <script>\n",
              "        const buttonEl =\n",
              "          document.querySelector('#df-bba42261-7ed9-45b8-9a4f-8b52ea9ea077 button.colab-df-convert');\n",
              "        buttonEl.style.display =\n",
              "          google.colab.kernel.accessAllowed ? 'block' : 'none';\n",
              "\n",
              "        async function convertToInteractive(key) {\n",
              "          const element = document.querySelector('#df-bba42261-7ed9-45b8-9a4f-8b52ea9ea077');\n",
              "          const dataTable =\n",
              "            await google.colab.kernel.invokeFunction('convertToInteractive',\n",
              "                                                     [key], {});\n",
              "          if (!dataTable) return;\n",
              "\n",
              "          const docLinkHtml = 'Like what you see? Visit the ' +\n",
              "            '<a target=\"_blank\" href=https://colab.research.google.com/notebooks/data_table.ipynb>data table notebook</a>'\n",
              "            + ' to learn more about interactive tables.';\n",
              "          element.innerHTML = '';\n",
              "          dataTable['output_type'] = 'display_data';\n",
              "          await google.colab.output.renderOutput(dataTable, element);\n",
              "          const docLink = document.createElement('div');\n",
              "          docLink.innerHTML = docLinkHtml;\n",
              "          element.appendChild(docLink);\n",
              "        }\n",
              "      </script>\n",
              "    </div>\n",
              "  </div>\n",
              "  "
            ]
          },
          "metadata": {},
          "execution_count": 86
        }
      ]
    },
    {
      "cell_type": "code",
      "source": [
        "output_df.head()"
      ],
      "metadata": {
        "colab": {
          "base_uri": "https://localhost:8080/",
          "height": 548
        },
        "id": "1oxouAKaAUv6",
        "outputId": "cd98d475-5b49-4d52-a02b-c6276d41f6a4"
      },
      "execution_count": null,
      "outputs": [
        {
          "output_type": "execute_result",
          "data": {
            "text/plain": [
              "   tweet_id     user_location  \\\n",
              "0         1           Chicago   \n",
              "1         2  Bengaluru, India   \n",
              "2         3               NaN   \n",
              "3         4               NaN   \n",
              "4         5   not in London -   \n",
              "\n",
              "                                    user_description  user_followers  \\\n",
              "0  Official Twitter of Mercy Home for Boys & Girl...          4352.0   \n",
              "1  Hourly updates on FREE and PAID 18+ and 45+ va...            40.0   \n",
              "2  ”First they ignore you, then they laugh at you...          1915.0   \n",
              "3                            Gentleman adventurer...           144.0   \n",
              "4  I fall into the vulnerable category.\\n\\nThat m...           184.0   \n",
              "\n",
              "   user_friends  user_favourites user_verified        date  \\\n",
              "0        2087.0           1780.0          True  2021-03-12   \n",
              "1           0.0              0.0         False  2022-03-10   \n",
              "2         860.0          52127.0         False  2021-10-19   \n",
              "3         329.0          15876.0         False  2021-07-02   \n",
              "4          98.0          13359.0         False  2021-08-07   \n",
              "\n",
              "                                            raw_text  \\\n",
              "0  We asked our coworkers why they're getting a C...   \n",
              "1  45+ #RURAL #Bengaluru #CovidVaccine Availabili...   \n",
              "2  @JoyAnnReid @NIH  👿Questions:  Could the vacci...   \n",
              "3  Next question is how do you find out where you...   \n",
              "4  If you told your child to get a Covid vaccine,...   \n",
              "\n",
              "                                        hashtags is_retweet  \\\n",
              "0  'FeelGoodFriday', 'MercyHomeCares', 'Covid19'      False   \n",
              "1           'RURAL', 'Bengaluru', 'CovidVaccine'      False   \n",
              "2                  'ColinPowell', 'covidvaccine'      False   \n",
              "3                                 'CovidVaccine'      False   \n",
              "4                      'COVID19', 'CovidVaccine'      False   \n",
              "\n",
              "   roberta_loc_score roberta_loc_guess distilBERT_sentiment  distilBERT_score  \\\n",
              "0       6.369158e-06           Chicago             NEGATIVE          0.997759   \n",
              "1       3.810927e-01             India             NEGATIVE          0.978396   \n",
              "2       6.478056e-08      NotSpecified             NEGATIVE          0.998409   \n",
              "3       6.478056e-08      NotSpecified             NEGATIVE          0.999123   \n",
              "4       5.848263e-08     not in London             NEGATIVE          0.999768   \n",
              "\n",
              "                                      lowercase_text  vaccine_filter  \\\n",
              "0  we asked our coworkers why they're getting a c...            True   \n",
              "1  45+ #rural #bengaluru #covidvaccine availabili...            True   \n",
              "2  @joyannreid @nih  👿questions:  could the vacci...            True   \n",
              "3  next question is how do you find out where you...            True   \n",
              "4  if you told your child to get a covid vaccine,...            True   \n",
              "\n",
              "   hesitancy_filter  safety_filter  mistrust_filter  \n",
              "0             False          False            False  \n",
              "1             False          False            False  \n",
              "2              True           True             True  \n",
              "3              True          False             True  \n",
              "4             False          False            False  "
            ],
            "text/html": [
              "\n",
              "  <div id=\"df-230e0f0f-7992-4e56-b3c0-fc24e9f020d6\">\n",
              "    <div class=\"colab-df-container\">\n",
              "      <div>\n",
              "<style scoped>\n",
              "    .dataframe tbody tr th:only-of-type {\n",
              "        vertical-align: middle;\n",
              "    }\n",
              "\n",
              "    .dataframe tbody tr th {\n",
              "        vertical-align: top;\n",
              "    }\n",
              "\n",
              "    .dataframe thead th {\n",
              "        text-align: right;\n",
              "    }\n",
              "</style>\n",
              "<table border=\"1\" class=\"dataframe\">\n",
              "  <thead>\n",
              "    <tr style=\"text-align: right;\">\n",
              "      <th></th>\n",
              "      <th>tweet_id</th>\n",
              "      <th>user_location</th>\n",
              "      <th>user_description</th>\n",
              "      <th>user_followers</th>\n",
              "      <th>user_friends</th>\n",
              "      <th>user_favourites</th>\n",
              "      <th>user_verified</th>\n",
              "      <th>date</th>\n",
              "      <th>raw_text</th>\n",
              "      <th>hashtags</th>\n",
              "      <th>is_retweet</th>\n",
              "      <th>roberta_loc_score</th>\n",
              "      <th>roberta_loc_guess</th>\n",
              "      <th>distilBERT_sentiment</th>\n",
              "      <th>distilBERT_score</th>\n",
              "      <th>lowercase_text</th>\n",
              "      <th>vaccine_filter</th>\n",
              "      <th>hesitancy_filter</th>\n",
              "      <th>safety_filter</th>\n",
              "      <th>mistrust_filter</th>\n",
              "    </tr>\n",
              "  </thead>\n",
              "  <tbody>\n",
              "    <tr>\n",
              "      <th>0</th>\n",
              "      <td>1</td>\n",
              "      <td>Chicago</td>\n",
              "      <td>Official Twitter of Mercy Home for Boys &amp; Girl...</td>\n",
              "      <td>4352.0</td>\n",
              "      <td>2087.0</td>\n",
              "      <td>1780.0</td>\n",
              "      <td>True</td>\n",
              "      <td>2021-03-12</td>\n",
              "      <td>We asked our coworkers why they're getting a C...</td>\n",
              "      <td>'FeelGoodFriday', 'MercyHomeCares', 'Covid19'</td>\n",
              "      <td>False</td>\n",
              "      <td>6.369158e-06</td>\n",
              "      <td>Chicago</td>\n",
              "      <td>NEGATIVE</td>\n",
              "      <td>0.997759</td>\n",
              "      <td>we asked our coworkers why they're getting a c...</td>\n",
              "      <td>True</td>\n",
              "      <td>False</td>\n",
              "      <td>False</td>\n",
              "      <td>False</td>\n",
              "    </tr>\n",
              "    <tr>\n",
              "      <th>1</th>\n",
              "      <td>2</td>\n",
              "      <td>Bengaluru, India</td>\n",
              "      <td>Hourly updates on FREE and PAID 18+ and 45+ va...</td>\n",
              "      <td>40.0</td>\n",
              "      <td>0.0</td>\n",
              "      <td>0.0</td>\n",
              "      <td>False</td>\n",
              "      <td>2022-03-10</td>\n",
              "      <td>45+ #RURAL #Bengaluru #CovidVaccine Availabili...</td>\n",
              "      <td>'RURAL', 'Bengaluru', 'CovidVaccine'</td>\n",
              "      <td>False</td>\n",
              "      <td>3.810927e-01</td>\n",
              "      <td>India</td>\n",
              "      <td>NEGATIVE</td>\n",
              "      <td>0.978396</td>\n",
              "      <td>45+ #rural #bengaluru #covidvaccine availabili...</td>\n",
              "      <td>True</td>\n",
              "      <td>False</td>\n",
              "      <td>False</td>\n",
              "      <td>False</td>\n",
              "    </tr>\n",
              "    <tr>\n",
              "      <th>2</th>\n",
              "      <td>3</td>\n",
              "      <td>NaN</td>\n",
              "      <td>”First they ignore you, then they laugh at you...</td>\n",
              "      <td>1915.0</td>\n",
              "      <td>860.0</td>\n",
              "      <td>52127.0</td>\n",
              "      <td>False</td>\n",
              "      <td>2021-10-19</td>\n",
              "      <td>@JoyAnnReid @NIH  👿Questions:  Could the vacci...</td>\n",
              "      <td>'ColinPowell', 'covidvaccine'</td>\n",
              "      <td>False</td>\n",
              "      <td>6.478056e-08</td>\n",
              "      <td>NotSpecified</td>\n",
              "      <td>NEGATIVE</td>\n",
              "      <td>0.998409</td>\n",
              "      <td>@joyannreid @nih  👿questions:  could the vacci...</td>\n",
              "      <td>True</td>\n",
              "      <td>True</td>\n",
              "      <td>True</td>\n",
              "      <td>True</td>\n",
              "    </tr>\n",
              "    <tr>\n",
              "      <th>3</th>\n",
              "      <td>4</td>\n",
              "      <td>NaN</td>\n",
              "      <td>Gentleman adventurer...</td>\n",
              "      <td>144.0</td>\n",
              "      <td>329.0</td>\n",
              "      <td>15876.0</td>\n",
              "      <td>False</td>\n",
              "      <td>2021-07-02</td>\n",
              "      <td>Next question is how do you find out where you...</td>\n",
              "      <td>'CovidVaccine'</td>\n",
              "      <td>False</td>\n",
              "      <td>6.478056e-08</td>\n",
              "      <td>NotSpecified</td>\n",
              "      <td>NEGATIVE</td>\n",
              "      <td>0.999123</td>\n",
              "      <td>next question is how do you find out where you...</td>\n",
              "      <td>True</td>\n",
              "      <td>True</td>\n",
              "      <td>False</td>\n",
              "      <td>True</td>\n",
              "    </tr>\n",
              "    <tr>\n",
              "      <th>4</th>\n",
              "      <td>5</td>\n",
              "      <td>not in London -</td>\n",
              "      <td>I fall into the vulnerable category.\\n\\nThat m...</td>\n",
              "      <td>184.0</td>\n",
              "      <td>98.0</td>\n",
              "      <td>13359.0</td>\n",
              "      <td>False</td>\n",
              "      <td>2021-08-07</td>\n",
              "      <td>If you told your child to get a Covid vaccine,...</td>\n",
              "      <td>'COVID19', 'CovidVaccine'</td>\n",
              "      <td>False</td>\n",
              "      <td>5.848263e-08</td>\n",
              "      <td>not in London</td>\n",
              "      <td>NEGATIVE</td>\n",
              "      <td>0.999768</td>\n",
              "      <td>if you told your child to get a covid vaccine,...</td>\n",
              "      <td>True</td>\n",
              "      <td>False</td>\n",
              "      <td>False</td>\n",
              "      <td>False</td>\n",
              "    </tr>\n",
              "  </tbody>\n",
              "</table>\n",
              "</div>\n",
              "      <button class=\"colab-df-convert\" onclick=\"convertToInteractive('df-230e0f0f-7992-4e56-b3c0-fc24e9f020d6')\"\n",
              "              title=\"Convert this dataframe to an interactive table.\"\n",
              "              style=\"display:none;\">\n",
              "        \n",
              "  <svg xmlns=\"http://www.w3.org/2000/svg\" height=\"24px\"viewBox=\"0 0 24 24\"\n",
              "       width=\"24px\">\n",
              "    <path d=\"M0 0h24v24H0V0z\" fill=\"none\"/>\n",
              "    <path d=\"M18.56 5.44l.94 2.06.94-2.06 2.06-.94-2.06-.94-.94-2.06-.94 2.06-2.06.94zm-11 1L8.5 8.5l.94-2.06 2.06-.94-2.06-.94L8.5 2.5l-.94 2.06-2.06.94zm10 10l.94 2.06.94-2.06 2.06-.94-2.06-.94-.94-2.06-.94 2.06-2.06.94z\"/><path d=\"M17.41 7.96l-1.37-1.37c-.4-.4-.92-.59-1.43-.59-.52 0-1.04.2-1.43.59L10.3 9.45l-7.72 7.72c-.78.78-.78 2.05 0 2.83L4 21.41c.39.39.9.59 1.41.59.51 0 1.02-.2 1.41-.59l7.78-7.78 2.81-2.81c.8-.78.8-2.07 0-2.86zM5.41 20L4 18.59l7.72-7.72 1.47 1.35L5.41 20z\"/>\n",
              "  </svg>\n",
              "      </button>\n",
              "      \n",
              "  <style>\n",
              "    .colab-df-container {\n",
              "      display:flex;\n",
              "      flex-wrap:wrap;\n",
              "      gap: 12px;\n",
              "    }\n",
              "\n",
              "    .colab-df-convert {\n",
              "      background-color: #E8F0FE;\n",
              "      border: none;\n",
              "      border-radius: 50%;\n",
              "      cursor: pointer;\n",
              "      display: none;\n",
              "      fill: #1967D2;\n",
              "      height: 32px;\n",
              "      padding: 0 0 0 0;\n",
              "      width: 32px;\n",
              "    }\n",
              "\n",
              "    .colab-df-convert:hover {\n",
              "      background-color: #E2EBFA;\n",
              "      box-shadow: 0px 1px 2px rgba(60, 64, 67, 0.3), 0px 1px 3px 1px rgba(60, 64, 67, 0.15);\n",
              "      fill: #174EA6;\n",
              "    }\n",
              "\n",
              "    [theme=dark] .colab-df-convert {\n",
              "      background-color: #3B4455;\n",
              "      fill: #D2E3FC;\n",
              "    }\n",
              "\n",
              "    [theme=dark] .colab-df-convert:hover {\n",
              "      background-color: #434B5C;\n",
              "      box-shadow: 0px 1px 3px 1px rgba(0, 0, 0, 0.15);\n",
              "      filter: drop-shadow(0px 1px 2px rgba(0, 0, 0, 0.3));\n",
              "      fill: #FFFFFF;\n",
              "    }\n",
              "  </style>\n",
              "\n",
              "      <script>\n",
              "        const buttonEl =\n",
              "          document.querySelector('#df-230e0f0f-7992-4e56-b3c0-fc24e9f020d6 button.colab-df-convert');\n",
              "        buttonEl.style.display =\n",
              "          google.colab.kernel.accessAllowed ? 'block' : 'none';\n",
              "\n",
              "        async function convertToInteractive(key) {\n",
              "          const element = document.querySelector('#df-230e0f0f-7992-4e56-b3c0-fc24e9f020d6');\n",
              "          const dataTable =\n",
              "            await google.colab.kernel.invokeFunction('convertToInteractive',\n",
              "                                                     [key], {});\n",
              "          if (!dataTable) return;\n",
              "\n",
              "          const docLinkHtml = 'Like what you see? Visit the ' +\n",
              "            '<a target=\"_blank\" href=https://colab.research.google.com/notebooks/data_table.ipynb>data table notebook</a>'\n",
              "            + ' to learn more about interactive tables.';\n",
              "          element.innerHTML = '';\n",
              "          dataTable['output_type'] = 'display_data';\n",
              "          await google.colab.output.renderOutput(dataTable, element);\n",
              "          const docLink = document.createElement('div');\n",
              "          docLink.innerHTML = docLinkHtml;\n",
              "          element.appendChild(docLink);\n",
              "        }\n",
              "      </script>\n",
              "    </div>\n",
              "  </div>\n",
              "  "
            ]
          },
          "metadata": {},
          "execution_count": 88
        }
      ]
    },
    {
      "cell_type": "code",
      "source": [
        "from google.colab import files\n",
        "\n",
        "output_df.loc[:, ['tweet_id', 'vaccine_filter', 'hesitancy_filter', 'safety_filter', 'mistrust_filter']].to_csv('cascading_regex_filters_results.csv', encoding = 'utf-8-sig', index = False)\n",
        "files.download('cascading_regex_filters_results.csv')"
      ],
      "metadata": {
        "id": "IfB7DgECM95n",
        "colab": {
          "base_uri": "https://localhost:8080/",
          "height": 34
        },
        "outputId": "ce79b830-093a-44c3-ac5d-290bf00e50e4"
      },
      "execution_count": null,
      "outputs": [
        {
          "output_type": "display_data",
          "data": {
            "text/plain": [
              "<IPython.core.display.Javascript object>"
            ],
            "application/javascript": [
              "\n",
              "    async function download(id, filename, size) {\n",
              "      if (!google.colab.kernel.accessAllowed) {\n",
              "        return;\n",
              "      }\n",
              "      const div = document.createElement('div');\n",
              "      const label = document.createElement('label');\n",
              "      label.textContent = `Downloading \"${filename}\": `;\n",
              "      div.appendChild(label);\n",
              "      const progress = document.createElement('progress');\n",
              "      progress.max = size;\n",
              "      div.appendChild(progress);\n",
              "      document.body.appendChild(div);\n",
              "\n",
              "      const buffers = [];\n",
              "      let downloaded = 0;\n",
              "\n",
              "      const channel = await google.colab.kernel.comms.open(id);\n",
              "      // Send a message to notify the kernel that we're ready.\n",
              "      channel.send({})\n",
              "\n",
              "      for await (const message of channel.messages) {\n",
              "        // Send a message to notify the kernel that we're ready.\n",
              "        channel.send({})\n",
              "        if (message.buffers) {\n",
              "          for (const buffer of message.buffers) {\n",
              "            buffers.push(buffer);\n",
              "            downloaded += buffer.byteLength;\n",
              "            progress.value = downloaded;\n",
              "          }\n",
              "        }\n",
              "      }\n",
              "      const blob = new Blob(buffers, {type: 'application/binary'});\n",
              "      const a = document.createElement('a');\n",
              "      a.href = window.URL.createObjectURL(blob);\n",
              "      a.download = filename;\n",
              "      div.appendChild(a);\n",
              "      a.click();\n",
              "      div.remove();\n",
              "    }\n",
              "  "
            ]
          },
          "metadata": {}
        },
        {
          "output_type": "display_data",
          "data": {
            "text/plain": [
              "<IPython.core.display.Javascript object>"
            ],
            "application/javascript": [
              "download(\"download_ca3840d8-adae-4a26-9dc9-25a1d57031fa\", \"cascading_regex_filters_results.csv\", 2906219)"
            ]
          },
          "metadata": {}
        }
      ]
    }
  ]
}