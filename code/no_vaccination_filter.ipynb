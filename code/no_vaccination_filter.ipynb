{
  "nbformat": 4,
  "nbformat_minor": 0,
  "metadata": {
    "colab": {
      "provenance": [],
      "collapsed_sections": [
        "DQ6Ch1aJdjQC",
        "XKINGw69dnSW"
      ],
      "authorship_tag": "ABX9TyNCgjcaJ6JRgasID/VqcULd",
      "include_colab_link": true
    },
    "kernelspec": {
      "name": "python3",
      "display_name": "Python 3"
    },
    "language_info": {
      "name": "python"
    }
  },
  "cells": [
    {
      "cell_type": "markdown",
      "metadata": {
        "id": "view-in-github",
        "colab_type": "text"
      },
      "source": [
        "<a href=\"https://colab.research.google.com/github/dzanahmed/welcome-ideathon-lshtm/blob/main/code/no_vaccination_filter.ipynb\" target=\"_parent\"><img src=\"https://colab.research.google.com/assets/colab-badge.svg\" alt=\"Open In Colab\"/></a>"
      ]
    },
    {
      "cell_type": "markdown",
      "source": [
        "#Setup"
      ],
      "metadata": {
        "id": "DQ6Ch1aJdjQC"
      }
    },
    {
      "cell_type": "markdown",
      "source": [
        "## Load Packages"
      ],
      "metadata": {
        "id": "vz7wq0xJdk8E"
      }
    },
    {
      "cell_type": "code",
      "source": [
        "import pandas as pd\n",
        "import re\n",
        "import tqdm\n",
        "import nltk\n",
        "import string"
      ],
      "metadata": {
        "id": "icaY0a7dJJ3H"
      },
      "execution_count": 26,
      "outputs": []
    },
    {
      "cell_type": "markdown",
      "source": [
        "## Load data in dataframe"
      ],
      "metadata": {
        "id": "XKINGw69dnSW"
      }
    },
    {
      "cell_type": "code",
      "execution_count": 27,
      "metadata": {
        "colab": {
          "base_uri": "https://localhost:8080/"
        },
        "id": "vXTJW60yI9X3",
        "outputId": "d09ab92d-280f-43b6-94fd-2d650f60bf3b"
      },
      "outputs": [
        {
          "output_type": "stream",
          "name": "stderr",
          "text": [
            "<ipython-input-27-6450e61c635d>:2: DtypeWarning: Columns (6,11) have mixed types. Specify dtype option on import or set low_memory=False.\n",
            "  raw_df = pd.read_csv(url)\n"
          ]
        }
      ],
      "source": [
        "url = \"https://raw.githubusercontent.com/dzanahmed/welcome-ideathon-lshtm/main/data/interim/vax_tweets_v0_filtered_unfiltered.csv?token=GHSAT0AAAAAACB5CGERHJBFG744WYKK3L3GZFJPQUQ\"\n",
        "raw_df = pd.read_csv(url)\n",
        "\n",
        "# raw_df.dtypes"
      ]
    },
    {
      "cell_type": "markdown",
      "source": [
        "## save necessary columns in new dataframe"
      ],
      "metadata": {
        "id": "nRr7mcKsdsvA"
      }
    },
    {
      "cell_type": "code",
      "source": [
        "df = raw_df[['tweet_id', 'text', 'filtered']]\n",
        "df['text'] = df['text'].astype(str)\n",
        "\n",
        "# df.head()"
      ],
      "metadata": {
        "colab": {
          "base_uri": "https://localhost:8080/"
        },
        "id": "inwRTs6jJQQu",
        "outputId": "5c0756bc-fecd-4b9d-80cb-3c65e62c20e1"
      },
      "execution_count": 28,
      "outputs": [
        {
          "output_type": "stream",
          "name": "stderr",
          "text": [
            "<ipython-input-28-f24e558cbac7>:2: SettingWithCopyWarning: \n",
            "A value is trying to be set on a copy of a slice from a DataFrame.\n",
            "Try using .loc[row_indexer,col_indexer] = value instead\n",
            "\n",
            "See the caveats in the documentation: https://pandas.pydata.org/pandas-docs/stable/user_guide/indexing.html#returning-a-view-versus-a-copy\n",
            "  df['text'] = df['text'].astype(str)\n"
          ]
        }
      ]
    },
    {
      "cell_type": "markdown",
      "source": [
        "## Regular Expressions to Capture Posts Describing Decision to Decline the COVID-19 Vaccine"
      ],
      "metadata": {
        "id": "H_CuG4V6eZBI"
      }
    },
    {
      "cell_type": "code",
      "source": [
        "# REGULAR EXPRESSIONS TAKEN DIRECTLY FROM:\n",
        "# Golder S, McRobbie-Johnson ACE, Klein A, Polite FG, Gonzalez Hernandez G. Social media and COVID-19 vaccination hesitancy during pregnancy: a mixed methods analysis. BJOG. 2023;130(6):750–758. https://doi.org/10.1111/1471- 0528.17481\n",
        "\n",
        "REGEXES_NO_COVID_VACCINE_UPDATED = [\n",
        "r'(?<!“)(?<!\")(?<!‘)(?<!:)(?<!“\\s)(?<!\"\\s)(?<!‘\\s)(?<!:\\s)\\bi\\s*(\\S+\\s*)?(will\\s*not|won\\W*t|would\\s*not|wouldn\\W*t)\\s*(get|have)\\s*((the|a)\\s*)?#?(covid|covid\\W*19|coronavirus|corona|moderna|pfizer|astrazeneca|biontech|janssen|johnson\\W*johnson|johnson&amp;johnson|j\\W*j|j&amp;j|novavax|sputnik\\W*v|mrna|\\W)*(vaccines?|vaccinations?|vaxx?)\\b',\n",
        "\n",
        "r'(?<!“)(?<!\")(?<!‘)(?<!:)(?<!“\\s)(?<!\"\\s)(?<!‘\\s)(?<!:\\s)\\bi\\s*(\\S+\\s*)?(will\\s*not|won\\W*t|would\\s*not|wouldn\\W*t)\\s*(get|have)\\s*(the|a)\\s+#?(covid|covid\\W*19|coronavirus|corona|moderna|pfizer|astrazeneca|biontech|janssen|johnson\\W*johnson|johnson&amp;johnson|j\\W*j|j&amp;j|novavax|sputnik\\W*v|mrna|\\W)+(shots?|jabs?)\\b',\n",
        "\n",
        "r'(?<!“)(?<!\")(?<!‘)(?<!:)(?<!“\\s)(?<!\"\\s)(?<!‘\\s)(?<!:\\s)\\bi(\\s*am|\\W*m|)\\s*(\\S+\\s*)?not\\s*(getting|having)\\s*((the|a)\\s*)?#?(covid|covid\\W*19|coronavirus|corona|moderna|pfizer|astrazeneca|biontech|janssen|johnson\\W*johnson|johnson&amp;johnson|j\\W*j|j&amp;j|novavax|sputnikv|sputnik\\W*v|mrna|\\W)*(vaccines?|vaccinations?|vaxx?)\\b',\n",
        "\n",
        "r'(?<!“)(?<!\")(?<!‘)(?<!:)(?<!“\\s)(?<!\"\\s)(?<!‘\\s)(?<!:\\s)\\bi(\\s*am|\\W*m|)\\s*(\\S+\\s*)?not\\s*(getting|having)\\s*(the|a)\\s+#?(covid|covid\\W*19|coronavirus|corona|moderna|pfizer|astrazeneca|biontech|janssen|johnson\\W*johnson|johnson&amp;johnson|j\\W*j|j&amp;j|novavax|sputnikv|sputnik\\W*v|mrna|\\W)+(shots?|jabs?)\\b',\n",
        "\n",
        "r'(?<!“)(?<!\")(?<!‘)(?<!:)(?<!“\\s)(?<!\"\\s)(?<!‘\\s)(?<!:\\s)\\bi\\s*(\\S+\\s*)?(will\\s*not|won\\W*t)\\s*be\\s*(getting|having)\\s*((the|a)\\s*)?#?(covid|covid\\W*19|coronavirus|corona|moderna|pfizer|astrazeneca|biontech|janssen|johnson\\W*johnson|johnson&amp;johnson|j\\W*j|j&amp;j|novavax|sputnikv|sputnik\\W*v|mrna|\\W)*(vaccines?|vaccinations?)\\b',\n",
        "\n",
        "r'(?<!“)(?<!\")(?<!‘)(?<!:)(?<!“\\s)(?<!\"\\s)(?<!‘\\s)(?<!:\\s)\\bi\\s*(\\S+\\s*)?(will\\s*not|won\\W*t)\\s*be\\s*(getting|having)\\s*(the|a)\\s+#?(covid|covid\\W*19|coronavirus|corona|moderna|pfizer|astrazeneca|biontech|janssen|johnson\\W*johnson|johnson&amp;johnson|j\\W*j|j&amp;j|novavax|sputnikv|sputnik\\W*v|mrna|\\W)+(shots?|jabs?)\\b',\n",
        "\n",
        "r'(?<!“)(?<!\")(?<!‘)(?<!:)(?<!“\\s)(?<!\"\\s)(?<!‘\\s)(?<!:\\s)\\b(i|i\\s*am|i\\W*m|i\\s*have|i\\W*ve)\\s*(\\S+\\s*)?(refus(e|ed|ing)|oppos(e|ed|ing)|reject(ed|ing)?|object(ed|ing)?)\\s*(to\\s*)?((get|getting|having)\\s*)?((the|a)\\s*)?#?(covid|covid\\W*19|coronavirus|corona|moderna|pfizer|astrazeneca|biontech|janssen|johnson\\W*johnson|johnson&amp;johnson|j\\W*j|j&amp;j|novavax|sputnikv|sputnik\\W*v|mrna|\\W)*(vaccines?|vaccinations?|vaxx?)\\b',\n",
        "\n",
        "r'(?<!“)(?<!\")(?<!‘)(?<!:)(?<!“\\s)(?<!\"\\s)(?<!‘\\s)(?<!:\\s)\\b(i|i\\s*am|i\\W*m|i\\s*have|i\\W*ve)\\s*(\\S+\\s*)?(refus(e|ed|ing)|oppos(e|ed|ing)|reject(ed|ing)?|object(ed|ing)?)\\s*(to\\s*)?((get|getting|have|having)\\s*)?(the|a)\\s+#?(covid|covid\\W*19|coronavirus|corona|moderna|pfizer|astrazeneca|biontech|janssen|johnson\\W*johnson|johnson&amp;johnson|j\\W*j|j&amp;j|novavax|sputnikv|sputnik\\W*v|mrna|\\W)+(shots?|jabs?)\\b',\n",
        "\n",
        "r'(?<!“)(?<!\")(?<!‘)(?<!:)(?<!“\\s)(?<!\"\\s)(?<!‘\\s)(?<!:\\s)\\bi\\s*(\\S+\\s*)?(will\\s*not|won\\W*t)\\s*(get|be)\\s*(vaccinated|vaxed|vaxxed|jabbed)\\b',\n",
        "\n",
        "r'(?<!“)(?<!\")(?<!‘)(?<!:)(?<!“\\s)(?<!\"\\s)(?<!‘\\s)(?<!:\\s)\\bi(\\s*am|\\W*m)\\s*(\\S+\\s*)?not\\s*((getting|being)\\s*)?(vaccinated|vaxed|vaxxed|jabbed)\\b',\n",
        "\n",
        "r'(?<!“)(?<!\")(?<!‘)(?<!:)(?<!“\\s)(?<!\"\\s)(?<!‘\\s)(?<!:\\s)\\bi(\\s*have|\\W*ve)\\s*not\\s*been\\s*(vaccinated|vaxed|vaxxed|jabbed)\\b',\n",
        "\n",
        "r'(?<!“)(?<!\")(?<!‘)(?<!:)(?<!“\\s)(?<!\"\\s)(?<!‘\\s)(?<!:\\s)\\b(i|i\\s*am|i\\W*m|i\\s*have|i\\W*ve)\\s*(\\S+\\s*)?(refus(e|ed|ing)|oppos(e|ed|ing)|object(ed|ing)?)\\s*(to\\s*)?(get|getting|be|being)\\s*(vaccinated|vaxed|vaxxed|jabbed)\\b',\n",
        "\n",
        "r'(?<!“)(?<!\")(?<!‘)(?<!:)(?<!“\\s)(?<!\"\\s)(?<!‘\\s)(?<!:\\s)\\b(not|haven\\W*t|didn\\W*t)\\s*(get|got|gotten|have|had|received)\\s*my\\s*#?((covid|covid\\W*19|coronavirus|corona)\\s*)?(vaccines?|vaccinations?|vaxx?)\\b',\n",
        "\n",
        "r'(?<!“)(?<!\")(?<!‘)(?<!:)(?<!“\\s)(?<!\"\\s)(?<!‘\\s)(?<!:\\s)\\b(not|haven\\W*t|didn\\W*t)\\s*(get|got|gotten|have|had|received)\\s*my\\s*#?(covid|covid\\W*19|coronavirus|corona)\\s*(shots?|jabs?)\\b',\n",
        "\n",
        "r'(?<!“)(?<!\")(?<!‘)(?<!:)(?<!“\\s)(?<!\"\\s)(?<!‘\\s)(?<!:\\s)\\bi\\s*(have\\s*not|haven\\W*t|did\\s*not|didn\\W*t)\\s*(get|got|gotten|have|had|received)\\s*(the|a)\\s*#?((covid|covid\\W*19|coronavirus|corona)\\s*)?(vaccines?|vaccinations?|vaxx?)\\b',\n",
        "\n",
        "r'(?<!“)(?<!\")(?<!‘)(?<!:)(?<!“\\s)(?<!\"\\s)(?<!‘\\s)(?<!:\\s)\\bi\\s*(have\\s*not|haven\\W*t|did\\s*not|didn\\W*t)\\s*(get|got|gotten|have|had|received)\\s*(the|a)\\s*#?(covid|covid\\W*19|coronavirus|corona)\\s*(shots?|jabs?)\\b',\n",
        "\n",
        "]"
      ],
      "metadata": {
        "id": "BiTJm_vHdg9N"
      },
      "execution_count": 29,
      "outputs": []
    },
    {
      "cell_type": "markdown",
      "source": [
        "## Preprocess tweets -- lowercase, remove punctuation"
      ],
      "metadata": {
        "id": "kyyrS7W9pLWE"
      }
    },
    {
      "cell_type": "code",
      "source": [
        "# Define function to preprocess a tweet\n",
        "def preprocess(tweet):\n",
        "  tweet=str(tweet)\n",
        "  tweet = tweet.lower()\n",
        "  punctuation = string.punctuation\n",
        "  tweet = ''.join([char for char in tweet if char not in punctuation])\n",
        "\n",
        "  # sentence=sentence.replace('{html}',\"\")\n",
        "  # cleanr = re.compile('<.*?>')\n",
        "  # cleantext = re.sub(cleanr, '', sentence)\n",
        "  # rem_url=re.sub(r'http\\S+', '', tweet)\n",
        "  # rem_num = re.sub('[0-9]+', '', rem_url)\n",
        "  # tokenizer = RegexpTokenizer(r'\\w+')\n",
        "  # tokens = tokenizer.tokenize(rem_num)\n",
        "  # filtered_words = [w for w in tokens if len(w) > 2 if not w in stopwords.words('english')]\n",
        "  # stem_words=[stemmer.stem(w) for w in filtered_words]\n",
        "  # lemma_words=[lemmatizer.lemmatize(w) for w in stem_words]\n",
        "  # return \" \".join(filtered_words)\n",
        "  return tweet"
      ],
      "metadata": {
        "id": "N0OJQ7rrpQD4"
      },
      "execution_count": 30,
      "outputs": []
    },
    {
      "cell_type": "code",
      "source": [
        "# preprocess every tweet in the dataframe and save it in a new column, clean_text\n",
        "df['clean_text'] = df['text'].map(lambda tweet :preprocess(tweet))"
      ],
      "metadata": {
        "colab": {
          "base_uri": "https://localhost:8080/"
        },
        "id": "Zw4w4vD3syk2",
        "outputId": "554754ed-e0ba-4ea6-b2b1-7f65be8eacca"
      },
      "execution_count": 31,
      "outputs": [
        {
          "output_type": "stream",
          "name": "stderr",
          "text": [
            "<ipython-input-31-b875e50a7d52>:2: SettingWithCopyWarning: \n",
            "A value is trying to be set on a copy of a slice from a DataFrame.\n",
            "Try using .loc[row_indexer,col_indexer] = value instead\n",
            "\n",
            "See the caveats in the documentation: https://pandas.pydata.org/pandas-docs/stable/user_guide/indexing.html#returning-a-view-versus-a-copy\n",
            "  df['clean_text'] = df['text'].map(lambda tweet :preprocess(tweet))\n"
          ]
        }
      ]
    },
    {
      "cell_type": "markdown",
      "source": [
        "# Filter through tweets"
      ],
      "metadata": {
        "id": "DuXkIFUBe7ub"
      }
    },
    {
      "cell_type": "code",
      "source": [
        "# Create an empty boolean column 'no_vax_filter' in the DataFrame\n",
        "df['no_vax_filter'] = False\n",
        "\n",
        "# Iterate over each regex pattern\n",
        "for pattern in REGEXES_NO_COVID_VACCINE_UPDATED:\n",
        "    # Use 'str.contains()' to check if each tweet matches the pattern\n",
        "    mask = df['clean_text'].str.contains(pattern, flags=re.IGNORECASE, regex=True)\n",
        "\n",
        "    # Update 'no_vax_filter' column where the tweet matches the pattern\n",
        "    df.loc[mask, 'no_vax_filter'] = True\n",
        "\n",
        "# Print the DataFrame with the 'no_vax_filter' column\n",
        "print(df.head())"
      ],
      "metadata": {
        "colab": {
          "base_uri": "https://localhost:8080/"
        },
        "id": "gQUndnwPepTz",
        "outputId": "f36ab942-5c6a-4b83-83e1-bb09d62c057a"
      },
      "execution_count": 32,
      "outputs": [
        {
          "output_type": "stream",
          "name": "stderr",
          "text": [
            "<ipython-input-32-8cdaf0f0b726>:2: SettingWithCopyWarning: \n",
            "A value is trying to be set on a copy of a slice from a DataFrame.\n",
            "Try using .loc[row_indexer,col_indexer] = value instead\n",
            "\n",
            "See the caveats in the documentation: https://pandas.pydata.org/pandas-docs/stable/user_guide/indexing.html#returning-a-view-versus-a-copy\n",
            "  df['no_vax_filter'] = False\n",
            "<ipython-input-32-8cdaf0f0b726>:7: UserWarning: This pattern is interpreted as a regular expression, and has match groups. To actually get the groups, use str.extract.\n",
            "  mask = df['clean_text'].str.contains(pattern, flags=re.IGNORECASE, regex=True)\n"
          ]
        },
        {
          "output_type": "stream",
          "name": "stdout",
          "text": [
            "   tweet_id                                               text  filtered  \\\n",
            "0         1  We asked our coworkers why they're getting a C...      True   \n",
            "1         2  45+ #RURAL #Bengaluru #CovidVaccine Availabili...      True   \n",
            "2         3  @JoyAnnReid @NIH  👿Questions:  Could the vacci...      True   \n",
            "3         4  Next question is how do you find out where you...      True   \n",
            "4         5  If you told your child to get a Covid vaccine,...      True   \n",
            "\n",
            "                                          clean_text  no_vax_filter  \n",
            "0  we asked our coworkers why theyre getting a co...          False  \n",
            "1  45 rural bengaluru covidvaccine availability f...          False  \n",
            "2  joyannreid nih  👿questions  could the vaccine ...          False  \n",
            "3  next question is how do you find out where you...          False  \n",
            "4  if you told your child to get a covid vaccine ...          False  \n"
          ]
        }
      ]
    },
    {
      "cell_type": "markdown",
      "source": [
        "## Examine regex filtering outputs"
      ],
      "metadata": {
        "id": "SPRH9mvV1va6"
      }
    },
    {
      "cell_type": "code",
      "source": [
        "# report number of positive/negative classified tweets\n",
        "print(f\"Passed filters: {len(df[df['no_vax_filter'] == True])}\")\n",
        "print(f\"Did not pass filters: {len(df[df['no_vax_filter'] == False])}\")\n",
        "\n",
        "# inspect classification of tweets\n",
        "print(\"\\nTweets that passed the filters:\")\n",
        "df.loc[df['no_vax_filter'] == True, ['text', 'no_vax_filter']]"
      ],
      "metadata": {
        "colab": {
          "base_uri": "https://localhost:8080/",
          "height": 1000
        },
        "id": "zSF-QuMT10ZI",
        "outputId": "f7d08d6c-59f9-4c6d-fcdf-00b0cc819a6a"
      },
      "execution_count": 33,
      "outputs": [
        {
          "output_type": "stream",
          "name": "stdout",
          "text": [
            "Passed filters: 60\n",
            "Did not pass filters: 99937\n",
            "\n",
            "Tweets that passed the filters:\n"
          ]
        },
        {
          "output_type": "execute_result",
          "data": {
            "text/plain": [
              "                                                    text  no_vax_filter\n",
              "2768   @realDonaldTrump Well then stop with the vacci...           True\n",
              "6407   A concise summary of the #CovidVaccine rollout...           True\n",
              "6626   People over 60 who've had their vaccines walki...           True\n",
              "6656   So a member of my family today posted a anti c...           True\n",
              "8047   @MarkinTenn This is WHY I won't get the #Covid...           True\n",
              "8573   #CovidVaccine I recommend not getting the vacc...           True\n",
              "11826  @TorahLectures I didn't get the #CovidVaccine ...           True\n",
              "12194  @AP So... a booster shot.  Glad I didn't get m...           True\n",
              "14949  @leeshutterbug @dianemariereid Same age so I w...           True\n",
              "18702  @offspring You're not PUNK! You're Govt. LACKE...           True\n",
              "20626  @Cocofritz Damn Strait! I will not be getting ...           True\n",
              "20958  I don’t want the vax, and I will not get the v...           True\n",
              "21264  I'll add:\\n\\n*you say* \"\"I'm not getting the #...           True\n",
              "21744  @Breaking911 That doesn’t bother me at all, b/...           True\n",
              "22579  I object to the #CovidVaccine @Pontifex @USCCB...           True\n",
              "24612  If I am vaccinated then how does it matter tha...           True\n",
              "27775  I definitely won’t be getting the #CovidVaccin...           True\n",
              "28147  @washingtonpost At this point,\\n\\nMost who are...           True\n",
              "29031  I will not get the Covid-19 vaccine. \\n\\nI wil...           True\n",
              "29289  @SW_Celebration I want my money back! #donotco...           True\n",
              "31294  This doctor says; I am not vaccinated, science...           True\n",
              "31334  @NPRHealth I condemn any senior who is refusin...           True\n",
              "32488  @Kevin_James_D I ❤️ this meme so much, I made ...           True\n",
              "33594  I won’t be having the vaccine anytime soon. #C...           True\n",
              "34586  @Alabaster_bapZ @stubbrnsunshine I didn't get ...           True\n",
              "37825  Why our elected Vice President#kamalaharris is...           True\n",
              "38531  I'm not getting the #CovidVaccine Thursday bec...           True\n",
              "38905  @CTVNews I'm not getting the #CovidVaccine Dr....           True\n",
              "46023  @thehill I’m no an #antivaxxer per se but I re...           True\n",
              "46872  So let me get this straight, I can have Aids, ...           True\n",
              "47641  @geezerpaulr I've not been jabbed... Don't reg...           True\n",
              "47686  Not had my #CovidVaccine yet but when I do I'l...           True\n",
              "49077  Please, Jeremy Corbyn, turn the Peace and Just...           True\n",
              "55317  A loved one is refusing to get #vaccinated The...           True\n",
              "57022  @fascinatorfun We've had seatbelt laws for hal...           True\n",
              "57979  Just like the survival rate of #Covid_19 I hav...           True\n",
              "58348  @CNN im not getting the #covidvaccine because ...           True\n",
              "59876  I'm 33 years old and I refuse to get a covid v...           True\n",
              "61643  I refused the #CovidVaccine.  I received the #...           True\n",
              "63771  As @washingtonpost @isaacstanbecker exposes mo...           True\n",
              "65166  I have questioned #CovidVaccine from Day One.\\...           True\n",
              "66349  Went to a pop up #CovidVaccine clinic. I've pr...           True\n",
              "66958  While this was very helpful, I'm still not get...           True\n",
              "73883  @MSNBC @MaddowBlog Me! I said months ago I wou...           True\n",
              "77501  I had to check the box to say that I understan...           True\n",
              "78755  No I don't #WearAMask\\nNo I'm not #vaccinated\\...           True\n",
              "84047  \"\"I'm not getting vaccinated. No way I'm letti...           True\n",
              "88073  So #KyrieIrving is #Refusing to get the #Covid...           True\n",
              "88380  Got a rebuttal to my 6 reasons I’m not getting...           True\n",
              "88737  I’m not getting a #CovidVaccine that is part o...           True\n",
              "88787  I will not wear a mask for COVID.    I will no...           True\n",
              "90145  I’ll go further. I’m not having the AstraZenec...           True\n",
              "91028  I’m not getting the vaccine right away! ✌🏾\\n\\n...           True\n",
              "91624  Just overheard:\\n\\nMan: I’m not vaccinated\\n\\n...           True\n",
              "92184  I will not be getting the #covidvaccine! You h...           True\n",
              "95176  Karen \"\"I won't be getting the vaccine. I don'...           True\n",
              "98392  I REPEAT I WON'T BE HAVING THE #CovidVaccine \\...           True\n",
              "98827  I am delighted to announce that I have NOT bee...           True\n",
              "99360  I will NOT take the Vaccine. I will NOT get a ...           True\n",
              "99888  Let me put 2 rest the \"\"I have natural immunit...           True"
            ],
            "text/html": [
              "\n",
              "  <div id=\"df-2fd30c66-4837-4f84-91e9-7c1f58e6fb55\">\n",
              "    <div class=\"colab-df-container\">\n",
              "      <div>\n",
              "<style scoped>\n",
              "    .dataframe tbody tr th:only-of-type {\n",
              "        vertical-align: middle;\n",
              "    }\n",
              "\n",
              "    .dataframe tbody tr th {\n",
              "        vertical-align: top;\n",
              "    }\n",
              "\n",
              "    .dataframe thead th {\n",
              "        text-align: right;\n",
              "    }\n",
              "</style>\n",
              "<table border=\"1\" class=\"dataframe\">\n",
              "  <thead>\n",
              "    <tr style=\"text-align: right;\">\n",
              "      <th></th>\n",
              "      <th>text</th>\n",
              "      <th>no_vax_filter</th>\n",
              "    </tr>\n",
              "  </thead>\n",
              "  <tbody>\n",
              "    <tr>\n",
              "      <th>2768</th>\n",
              "      <td>@realDonaldTrump Well then stop with the vacci...</td>\n",
              "      <td>True</td>\n",
              "    </tr>\n",
              "    <tr>\n",
              "      <th>6407</th>\n",
              "      <td>A concise summary of the #CovidVaccine rollout...</td>\n",
              "      <td>True</td>\n",
              "    </tr>\n",
              "    <tr>\n",
              "      <th>6626</th>\n",
              "      <td>People over 60 who've had their vaccines walki...</td>\n",
              "      <td>True</td>\n",
              "    </tr>\n",
              "    <tr>\n",
              "      <th>6656</th>\n",
              "      <td>So a member of my family today posted a anti c...</td>\n",
              "      <td>True</td>\n",
              "    </tr>\n",
              "    <tr>\n",
              "      <th>8047</th>\n",
              "      <td>@MarkinTenn This is WHY I won't get the #Covid...</td>\n",
              "      <td>True</td>\n",
              "    </tr>\n",
              "    <tr>\n",
              "      <th>8573</th>\n",
              "      <td>#CovidVaccine I recommend not getting the vacc...</td>\n",
              "      <td>True</td>\n",
              "    </tr>\n",
              "    <tr>\n",
              "      <th>11826</th>\n",
              "      <td>@TorahLectures I didn't get the #CovidVaccine ...</td>\n",
              "      <td>True</td>\n",
              "    </tr>\n",
              "    <tr>\n",
              "      <th>12194</th>\n",
              "      <td>@AP So... a booster shot.  Glad I didn't get m...</td>\n",
              "      <td>True</td>\n",
              "    </tr>\n",
              "    <tr>\n",
              "      <th>14949</th>\n",
              "      <td>@leeshutterbug @dianemariereid Same age so I w...</td>\n",
              "      <td>True</td>\n",
              "    </tr>\n",
              "    <tr>\n",
              "      <th>18702</th>\n",
              "      <td>@offspring You're not PUNK! You're Govt. LACKE...</td>\n",
              "      <td>True</td>\n",
              "    </tr>\n",
              "    <tr>\n",
              "      <th>20626</th>\n",
              "      <td>@Cocofritz Damn Strait! I will not be getting ...</td>\n",
              "      <td>True</td>\n",
              "    </tr>\n",
              "    <tr>\n",
              "      <th>20958</th>\n",
              "      <td>I don’t want the vax, and I will not get the v...</td>\n",
              "      <td>True</td>\n",
              "    </tr>\n",
              "    <tr>\n",
              "      <th>21264</th>\n",
              "      <td>I'll add:\\n\\n*you say* \"\"I'm not getting the #...</td>\n",
              "      <td>True</td>\n",
              "    </tr>\n",
              "    <tr>\n",
              "      <th>21744</th>\n",
              "      <td>@Breaking911 That doesn’t bother me at all, b/...</td>\n",
              "      <td>True</td>\n",
              "    </tr>\n",
              "    <tr>\n",
              "      <th>22579</th>\n",
              "      <td>I object to the #CovidVaccine @Pontifex @USCCB...</td>\n",
              "      <td>True</td>\n",
              "    </tr>\n",
              "    <tr>\n",
              "      <th>24612</th>\n",
              "      <td>If I am vaccinated then how does it matter tha...</td>\n",
              "      <td>True</td>\n",
              "    </tr>\n",
              "    <tr>\n",
              "      <th>27775</th>\n",
              "      <td>I definitely won’t be getting the #CovidVaccin...</td>\n",
              "      <td>True</td>\n",
              "    </tr>\n",
              "    <tr>\n",
              "      <th>28147</th>\n",
              "      <td>@washingtonpost At this point,\\n\\nMost who are...</td>\n",
              "      <td>True</td>\n",
              "    </tr>\n",
              "    <tr>\n",
              "      <th>29031</th>\n",
              "      <td>I will not get the Covid-19 vaccine. \\n\\nI wil...</td>\n",
              "      <td>True</td>\n",
              "    </tr>\n",
              "    <tr>\n",
              "      <th>29289</th>\n",
              "      <td>@SW_Celebration I want my money back! #donotco...</td>\n",
              "      <td>True</td>\n",
              "    </tr>\n",
              "    <tr>\n",
              "      <th>31294</th>\n",
              "      <td>This doctor says; I am not vaccinated, science...</td>\n",
              "      <td>True</td>\n",
              "    </tr>\n",
              "    <tr>\n",
              "      <th>31334</th>\n",
              "      <td>@NPRHealth I condemn any senior who is refusin...</td>\n",
              "      <td>True</td>\n",
              "    </tr>\n",
              "    <tr>\n",
              "      <th>32488</th>\n",
              "      <td>@Kevin_James_D I ❤️ this meme so much, I made ...</td>\n",
              "      <td>True</td>\n",
              "    </tr>\n",
              "    <tr>\n",
              "      <th>33594</th>\n",
              "      <td>I won’t be having the vaccine anytime soon. #C...</td>\n",
              "      <td>True</td>\n",
              "    </tr>\n",
              "    <tr>\n",
              "      <th>34586</th>\n",
              "      <td>@Alabaster_bapZ @stubbrnsunshine I didn't get ...</td>\n",
              "      <td>True</td>\n",
              "    </tr>\n",
              "    <tr>\n",
              "      <th>37825</th>\n",
              "      <td>Why our elected Vice President#kamalaharris is...</td>\n",
              "      <td>True</td>\n",
              "    </tr>\n",
              "    <tr>\n",
              "      <th>38531</th>\n",
              "      <td>I'm not getting the #CovidVaccine Thursday bec...</td>\n",
              "      <td>True</td>\n",
              "    </tr>\n",
              "    <tr>\n",
              "      <th>38905</th>\n",
              "      <td>@CTVNews I'm not getting the #CovidVaccine Dr....</td>\n",
              "      <td>True</td>\n",
              "    </tr>\n",
              "    <tr>\n",
              "      <th>46023</th>\n",
              "      <td>@thehill I’m no an #antivaxxer per se but I re...</td>\n",
              "      <td>True</td>\n",
              "    </tr>\n",
              "    <tr>\n",
              "      <th>46872</th>\n",
              "      <td>So let me get this straight, I can have Aids, ...</td>\n",
              "      <td>True</td>\n",
              "    </tr>\n",
              "    <tr>\n",
              "      <th>47641</th>\n",
              "      <td>@geezerpaulr I've not been jabbed... Don't reg...</td>\n",
              "      <td>True</td>\n",
              "    </tr>\n",
              "    <tr>\n",
              "      <th>47686</th>\n",
              "      <td>Not had my #CovidVaccine yet but when I do I'l...</td>\n",
              "      <td>True</td>\n",
              "    </tr>\n",
              "    <tr>\n",
              "      <th>49077</th>\n",
              "      <td>Please, Jeremy Corbyn, turn the Peace and Just...</td>\n",
              "      <td>True</td>\n",
              "    </tr>\n",
              "    <tr>\n",
              "      <th>55317</th>\n",
              "      <td>A loved one is refusing to get #vaccinated The...</td>\n",
              "      <td>True</td>\n",
              "    </tr>\n",
              "    <tr>\n",
              "      <th>57022</th>\n",
              "      <td>@fascinatorfun We've had seatbelt laws for hal...</td>\n",
              "      <td>True</td>\n",
              "    </tr>\n",
              "    <tr>\n",
              "      <th>57979</th>\n",
              "      <td>Just like the survival rate of #Covid_19 I hav...</td>\n",
              "      <td>True</td>\n",
              "    </tr>\n",
              "    <tr>\n",
              "      <th>58348</th>\n",
              "      <td>@CNN im not getting the #covidvaccine because ...</td>\n",
              "      <td>True</td>\n",
              "    </tr>\n",
              "    <tr>\n",
              "      <th>59876</th>\n",
              "      <td>I'm 33 years old and I refuse to get a covid v...</td>\n",
              "      <td>True</td>\n",
              "    </tr>\n",
              "    <tr>\n",
              "      <th>61643</th>\n",
              "      <td>I refused the #CovidVaccine.  I received the #...</td>\n",
              "      <td>True</td>\n",
              "    </tr>\n",
              "    <tr>\n",
              "      <th>63771</th>\n",
              "      <td>As @washingtonpost @isaacstanbecker exposes mo...</td>\n",
              "      <td>True</td>\n",
              "    </tr>\n",
              "    <tr>\n",
              "      <th>65166</th>\n",
              "      <td>I have questioned #CovidVaccine from Day One.\\...</td>\n",
              "      <td>True</td>\n",
              "    </tr>\n",
              "    <tr>\n",
              "      <th>66349</th>\n",
              "      <td>Went to a pop up #CovidVaccine clinic. I've pr...</td>\n",
              "      <td>True</td>\n",
              "    </tr>\n",
              "    <tr>\n",
              "      <th>66958</th>\n",
              "      <td>While this was very helpful, I'm still not get...</td>\n",
              "      <td>True</td>\n",
              "    </tr>\n",
              "    <tr>\n",
              "      <th>73883</th>\n",
              "      <td>@MSNBC @MaddowBlog Me! I said months ago I wou...</td>\n",
              "      <td>True</td>\n",
              "    </tr>\n",
              "    <tr>\n",
              "      <th>77501</th>\n",
              "      <td>I had to check the box to say that I understan...</td>\n",
              "      <td>True</td>\n",
              "    </tr>\n",
              "    <tr>\n",
              "      <th>78755</th>\n",
              "      <td>No I don't #WearAMask\\nNo I'm not #vaccinated\\...</td>\n",
              "      <td>True</td>\n",
              "    </tr>\n",
              "    <tr>\n",
              "      <th>84047</th>\n",
              "      <td>\"\"I'm not getting vaccinated. No way I'm letti...</td>\n",
              "      <td>True</td>\n",
              "    </tr>\n",
              "    <tr>\n",
              "      <th>88073</th>\n",
              "      <td>So #KyrieIrving is #Refusing to get the #Covid...</td>\n",
              "      <td>True</td>\n",
              "    </tr>\n",
              "    <tr>\n",
              "      <th>88380</th>\n",
              "      <td>Got a rebuttal to my 6 reasons I’m not getting...</td>\n",
              "      <td>True</td>\n",
              "    </tr>\n",
              "    <tr>\n",
              "      <th>88737</th>\n",
              "      <td>I’m not getting a #CovidVaccine that is part o...</td>\n",
              "      <td>True</td>\n",
              "    </tr>\n",
              "    <tr>\n",
              "      <th>88787</th>\n",
              "      <td>I will not wear a mask for COVID.    I will no...</td>\n",
              "      <td>True</td>\n",
              "    </tr>\n",
              "    <tr>\n",
              "      <th>90145</th>\n",
              "      <td>I’ll go further. I’m not having the AstraZenec...</td>\n",
              "      <td>True</td>\n",
              "    </tr>\n",
              "    <tr>\n",
              "      <th>91028</th>\n",
              "      <td>I’m not getting the vaccine right away! ✌🏾\\n\\n...</td>\n",
              "      <td>True</td>\n",
              "    </tr>\n",
              "    <tr>\n",
              "      <th>91624</th>\n",
              "      <td>Just overheard:\\n\\nMan: I’m not vaccinated\\n\\n...</td>\n",
              "      <td>True</td>\n",
              "    </tr>\n",
              "    <tr>\n",
              "      <th>92184</th>\n",
              "      <td>I will not be getting the #covidvaccine! You h...</td>\n",
              "      <td>True</td>\n",
              "    </tr>\n",
              "    <tr>\n",
              "      <th>95176</th>\n",
              "      <td>Karen \"\"I won't be getting the vaccine. I don'...</td>\n",
              "      <td>True</td>\n",
              "    </tr>\n",
              "    <tr>\n",
              "      <th>98392</th>\n",
              "      <td>I REPEAT I WON'T BE HAVING THE #CovidVaccine \\...</td>\n",
              "      <td>True</td>\n",
              "    </tr>\n",
              "    <tr>\n",
              "      <th>98827</th>\n",
              "      <td>I am delighted to announce that I have NOT bee...</td>\n",
              "      <td>True</td>\n",
              "    </tr>\n",
              "    <tr>\n",
              "      <th>99360</th>\n",
              "      <td>I will NOT take the Vaccine. I will NOT get a ...</td>\n",
              "      <td>True</td>\n",
              "    </tr>\n",
              "    <tr>\n",
              "      <th>99888</th>\n",
              "      <td>Let me put 2 rest the \"\"I have natural immunit...</td>\n",
              "      <td>True</td>\n",
              "    </tr>\n",
              "  </tbody>\n",
              "</table>\n",
              "</div>\n",
              "      <button class=\"colab-df-convert\" onclick=\"convertToInteractive('df-2fd30c66-4837-4f84-91e9-7c1f58e6fb55')\"\n",
              "              title=\"Convert this dataframe to an interactive table.\"\n",
              "              style=\"display:none;\">\n",
              "        \n",
              "  <svg xmlns=\"http://www.w3.org/2000/svg\" height=\"24px\"viewBox=\"0 0 24 24\"\n",
              "       width=\"24px\">\n",
              "    <path d=\"M0 0h24v24H0V0z\" fill=\"none\"/>\n",
              "    <path d=\"M18.56 5.44l.94 2.06.94-2.06 2.06-.94-2.06-.94-.94-2.06-.94 2.06-2.06.94zm-11 1L8.5 8.5l.94-2.06 2.06-.94-2.06-.94L8.5 2.5l-.94 2.06-2.06.94zm10 10l.94 2.06.94-2.06 2.06-.94-2.06-.94-.94-2.06-.94 2.06-2.06.94z\"/><path d=\"M17.41 7.96l-1.37-1.37c-.4-.4-.92-.59-1.43-.59-.52 0-1.04.2-1.43.59L10.3 9.45l-7.72 7.72c-.78.78-.78 2.05 0 2.83L4 21.41c.39.39.9.59 1.41.59.51 0 1.02-.2 1.41-.59l7.78-7.78 2.81-2.81c.8-.78.8-2.07 0-2.86zM5.41 20L4 18.59l7.72-7.72 1.47 1.35L5.41 20z\"/>\n",
              "  </svg>\n",
              "      </button>\n",
              "      \n",
              "  <style>\n",
              "    .colab-df-container {\n",
              "      display:flex;\n",
              "      flex-wrap:wrap;\n",
              "      gap: 12px;\n",
              "    }\n",
              "\n",
              "    .colab-df-convert {\n",
              "      background-color: #E8F0FE;\n",
              "      border: none;\n",
              "      border-radius: 50%;\n",
              "      cursor: pointer;\n",
              "      display: none;\n",
              "      fill: #1967D2;\n",
              "      height: 32px;\n",
              "      padding: 0 0 0 0;\n",
              "      width: 32px;\n",
              "    }\n",
              "\n",
              "    .colab-df-convert:hover {\n",
              "      background-color: #E2EBFA;\n",
              "      box-shadow: 0px 1px 2px rgba(60, 64, 67, 0.3), 0px 1px 3px 1px rgba(60, 64, 67, 0.15);\n",
              "      fill: #174EA6;\n",
              "    }\n",
              "\n",
              "    [theme=dark] .colab-df-convert {\n",
              "      background-color: #3B4455;\n",
              "      fill: #D2E3FC;\n",
              "    }\n",
              "\n",
              "    [theme=dark] .colab-df-convert:hover {\n",
              "      background-color: #434B5C;\n",
              "      box-shadow: 0px 1px 3px 1px rgba(0, 0, 0, 0.15);\n",
              "      filter: drop-shadow(0px 1px 2px rgba(0, 0, 0, 0.3));\n",
              "      fill: #FFFFFF;\n",
              "    }\n",
              "  </style>\n",
              "\n",
              "      <script>\n",
              "        const buttonEl =\n",
              "          document.querySelector('#df-2fd30c66-4837-4f84-91e9-7c1f58e6fb55 button.colab-df-convert');\n",
              "        buttonEl.style.display =\n",
              "          google.colab.kernel.accessAllowed ? 'block' : 'none';\n",
              "\n",
              "        async function convertToInteractive(key) {\n",
              "          const element = document.querySelector('#df-2fd30c66-4837-4f84-91e9-7c1f58e6fb55');\n",
              "          const dataTable =\n",
              "            await google.colab.kernel.invokeFunction('convertToInteractive',\n",
              "                                                     [key], {});\n",
              "          if (!dataTable) return;\n",
              "\n",
              "          const docLinkHtml = 'Like what you see? Visit the ' +\n",
              "            '<a target=\"_blank\" href=https://colab.research.google.com/notebooks/data_table.ipynb>data table notebook</a>'\n",
              "            + ' to learn more about interactive tables.';\n",
              "          element.innerHTML = '';\n",
              "          dataTable['output_type'] = 'display_data';\n",
              "          await google.colab.output.renderOutput(dataTable, element);\n",
              "          const docLink = document.createElement('div');\n",
              "          docLink.innerHTML = docLinkHtml;\n",
              "          element.appendChild(docLink);\n",
              "        }\n",
              "      </script>\n",
              "    </div>\n",
              "  </div>\n",
              "  "
            ]
          },
          "metadata": {},
          "execution_count": 33
        }
      ]
    },
    {
      "cell_type": "code",
      "source": [
        "from google.colab import files\n",
        "\n",
        "output_df = df.loc[:, ['tweet_id', 'no_vax_filter']]\n",
        "output_df.to_csv('no_vax_filter_results.csv', encoding = 'utf-8-sig')\n",
        "files.download('no_vax_filter_results.csv')"
      ],
      "metadata": {
        "colab": {
          "base_uri": "https://localhost:8080/",
          "height": 17
        },
        "id": "7COZUnKcLNNf",
        "outputId": "2470fe14-09fa-4ad7-8cde-c0e9560999bf"
      },
      "execution_count": 34,
      "outputs": [
        {
          "output_type": "display_data",
          "data": {
            "text/plain": [
              "<IPython.core.display.Javascript object>"
            ],
            "application/javascript": [
              "\n",
              "    async function download(id, filename, size) {\n",
              "      if (!google.colab.kernel.accessAllowed) {\n",
              "        return;\n",
              "      }\n",
              "      const div = document.createElement('div');\n",
              "      const label = document.createElement('label');\n",
              "      label.textContent = `Downloading \"${filename}\": `;\n",
              "      div.appendChild(label);\n",
              "      const progress = document.createElement('progress');\n",
              "      progress.max = size;\n",
              "      div.appendChild(progress);\n",
              "      document.body.appendChild(div);\n",
              "\n",
              "      const buffers = [];\n",
              "      let downloaded = 0;\n",
              "\n",
              "      const channel = await google.colab.kernel.comms.open(id);\n",
              "      // Send a message to notify the kernel that we're ready.\n",
              "      channel.send({})\n",
              "\n",
              "      for await (const message of channel.messages) {\n",
              "        // Send a message to notify the kernel that we're ready.\n",
              "        channel.send({})\n",
              "        if (message.buffers) {\n",
              "          for (const buffer of message.buffers) {\n",
              "            buffers.push(buffer);\n",
              "            downloaded += buffer.byteLength;\n",
              "            progress.value = downloaded;\n",
              "          }\n",
              "        }\n",
              "      }\n",
              "      const blob = new Blob(buffers, {type: 'application/binary'});\n",
              "      const a = document.createElement('a');\n",
              "      a.href = window.URL.createObjectURL(blob);\n",
              "      a.download = filename;\n",
              "      div.appendChild(a);\n",
              "      a.click();\n",
              "      div.remove();\n",
              "    }\n",
              "  "
            ]
          },
          "metadata": {}
        },
        {
          "output_type": "display_data",
          "data": {
            "text/plain": [
              "<IPython.core.display.Javascript object>"
            ],
            "application/javascript": [
              "download(\"download_11432e1e-d39b-4bfb-92f9-be4fad1c1e7d\", \"no_vax_filter_results.csv\", 1777698)"
            ]
          },
          "metadata": {}
        }
      ]
    }
  ]
}